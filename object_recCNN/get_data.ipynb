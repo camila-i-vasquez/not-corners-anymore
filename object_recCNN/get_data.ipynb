{
 "cells": [
  {
   "cell_type": "code",
   "execution_count": null,
   "metadata": {},
   "outputs": [],
   "source": [
    "import numpy as np\n",
    "import glob\n",
    "import pandas as pd\n",
    "import cv2 as cv\n",
    "import matplotlib.pyplot as plt\n",
    "import tensorflow as tf"
   ]
  },
  {
   "cell_type": "code",
   "execution_count": null,
   "metadata": {},
   "outputs": [],
   "source": [
    "train_images=[]\n",
    "train_images = [cv.imread(file) for file in glob.glob('/Users/camila/Documents/GitHub/not-corners-anymore/NYU_DIRECTORY/training/**/*colors.png', recursive=True)]\n",
    "train_target = [cv.imread(file) for file in glob.glob('/Users/camila/Documents/GitHub/not-corners-anymore/NYU_DIRECTORY/training/**/*ground_truth.png', recursive=True)]\n",
    "\n",
    "###########\n",
    "\n",
    "test_images = [cv.imread(file) for file in glob.glob('/Users/camila/Documents/GitHub/not-corners-anymore/NYU_DIRECTORY/training/**/*colors.png', recursive=True)]\n",
    "test_target = [cv.imread(file) for file in glob.glob('/Users/camila/Documents/GitHub/not-corners-anymore/NYU_DIRECTORY/training/**/*ground_truth.png', recursive=True)]\n"
   ]
  },
  {
   "cell_type": "code",
   "execution_count": null,
   "metadata": {},
   "outputs": [],
   "source": []
  }
 ],
 "metadata": {
  "kernelspec": {
   "display_name": "Python 3",
   "language": "python",
   "name": "python3"
  },
  "language_info": {
   "codemirror_mode": {
    "name": "ipython",
    "version": 3
   },
   "file_extension": ".py",
   "mimetype": "text/x-python",
   "name": "python",
   "nbconvert_exporter": "python",
   "pygments_lexer": "ipython3",
   "version": "3.6.8"
  }
 },
 "nbformat": 4,
 "nbformat_minor": 2
}
