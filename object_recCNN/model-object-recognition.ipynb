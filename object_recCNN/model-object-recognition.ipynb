{
 "cells": [
  {
   "cell_type": "code",
   "execution_count": null,
   "metadata": {},
   "outputs": [],
   "source": [
    "#importing modules and packages n stuff\n",
    "import tensorflow as tf\n",
    "import keras\n",
    "from keras.models import Sequential\n",
    "from keras.layers import Dense, Activation\n"
   ]
  },
  {
   "cell_type": "code",
   "execution_count": null,
   "metadata": {},
   "outputs": [],
   "source": [
    "#tf placeholders\n",
    "image = tf.placeholder(tf.int64, shape=none, name=none)\n",
    "object_rec = tf.placeholder(tf.int64, shape=none, name=none)"
   ]
  },
  {
   "cell_type": "code",
   "execution_count": null,
   "metadata": {},
   "outputs": [],
   "source": [
    "#data augmentation???\n"
   ]
  },
  {
   "cell_type": "code",
   "execution_count": 1,
   "metadata": {},
   "outputs": [
    {
     "ename": "SyntaxError",
     "evalue": "invalid syntax (<ipython-input-1-36dc0f3e4576>, line 5)",
     "output_type": "error",
     "traceback": [
      "\u001b[0;36m  File \u001b[0;32m\"<ipython-input-1-36dc0f3e4576>\"\u001b[0;36m, line \u001b[0;32m5\u001b[0m\n\u001b[0;31m    padding = 'valid', activation = 'relu', use_bias= True, .....)\u001b[0m\n\u001b[0m                                                                ^\u001b[0m\n\u001b[0;31mSyntaxError\u001b[0m\u001b[0;31m:\u001b[0m invalid syntax\n"
     ]
    }
   ],
   "source": [
    "#CNN layers\n",
    "'''tthere will be 4 main layers, 32, 32, 64, 64, conv, max pool, conv, max pool'''\n",
    "layer1 = keras.layers.Conv2D([filters], (10,10), strides = (10,10), \n",
    "                             padding = 'valid', activation = 'relu', use_bias= True, .....)\n",
    "layer2 = keras.layers.MaxPooling2D()\n",
    "layer3= keras.layers.Conv2D()\n",
    "layer4= keras.layers.MaxPooling2d()\n",
    "\n",
    "\n"
   ]
  },
  {
   "cell_type": "code",
   "execution_count": null,
   "metadata": {},
   "outputs": [],
   "source": [
    "#feature map to region proposal network to rol pooling to bounding box regression loss"
   ]
  },
  {
   "cell_type": "code",
   "execution_count": null,
   "metadata": {},
   "outputs": [],
   "source": [
    "#assembling the model\n",
    "model = Sequential(metrics = ['accuracy'])\n",
    "model.add(layer1)\n",
    "model.add(layer2)\n",
    "model.add(layer3)\n",
    "model.add(layer4)\n",
    "#rpn?\n",
    "#rol pooling?\n",
    "#bounding box regression??!!!"
   ]
  },
  {
   "cell_type": "code",
   "execution_count": null,
   "metadata": {},
   "outputs": [],
   "source": [
    "#function initializing the model, returns the model (trained)\n"
   ]
  },
  {
   "cell_type": "code",
   "execution_count": null,
   "metadata": {},
   "outputs": [],
   "source": []
  }
 ],
 "metadata": {
  "kernelspec": {
   "display_name": "Python 3",
   "language": "python",
   "name": "python3"
  },
  "language_info": {
   "codemirror_mode": {
    "name": "ipython",
    "version": 3
   },
   "file_extension": ".py",
   "mimetype": "text/x-python",
   "name": "python",
   "nbconvert_exporter": "python",
   "pygments_lexer": "ipython3",
   "version": "3.6.8"
  }
 },
 "nbformat": 4,
 "nbformat_minor": 2
}
